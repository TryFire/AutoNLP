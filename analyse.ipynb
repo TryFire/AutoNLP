{
  "nbformat": 4,
  "nbformat_minor": 0,
  "metadata": {
    "kernelspec": {
      "display_name": "Python 3",
      "language": "python",
      "name": "python3"
    },
    "language_info": {
      "codemirror_mode": {
        "name": "ipython",
        "version": 3
      },
      "file_extension": ".py",
      "mimetype": "text/x-python",
      "name": "python",
      "nbconvert_exporter": "python",
      "pygments_lexer": "ipython3",
      "version": "3.6.4"
    },
    "colab": {
      "name": "analyse.ipynb",
      "provenance": [],
      "toc_visible": true
    }
  },
  "cells": [
    {
      "cell_type": "code",
      "metadata": {
        "id": "QP6ttzFtyS2z",
        "colab_type": "code",
        "colab": {}
      },
      "source": [
        ""
      ],
      "execution_count": 0,
      "outputs": []
    },
    {
      "cell_type": "code",
      "metadata": {
        "id": "gpwV5RaN0_IP",
        "colab_type": "code",
        "colab": {
          "base_uri": "https://localhost:8080/",
          "height": 34
        },
        "outputId": "210910fd-f329-4364-855e-d43f691fe055"
      },
      "source": [
        "from google.colab import drive\n",
        "drive.mount('/content/drive')"
      ],
      "execution_count": 6,
      "outputs": [
        {
          "output_type": "stream",
          "text": [
            "Drive already mounted at /content/drive; to attempt to forcibly remount, call drive.mount(\"/content/drive\", force_remount=True).\n"
          ],
          "name": "stdout"
        }
      ]
    },
    {
      "cell_type": "code",
      "metadata": {
        "id": "oRWY_jhyBjmX",
        "colab_type": "code",
        "colab": {}
      },
      "source": [
        "# Copyright 2016 Google Inc. All Rights Reserved.\n",
        "#\n",
        "# Licensed under the Apache License, Version 2.0 (the \"License\");\n",
        "# you may not use this file except in compliance with the License.\n",
        "# You may obtain a copy of the License at\n",
        "#\n",
        "#      http://www.apache.org/licenses/LICENSE-2.0\n",
        "#\n",
        "# Unless required by applicable law or agreed to in writing, software\n",
        "# distributed under the License is distributed on an \"AS-IS\" BASIS,\n",
        "# WITHOUT WARRANTIES OR CONDITIONS OF ANY KIND, either express or implied.\n",
        "# See the License for the specific language governing permissions and\n",
        "# limitations under the License.\n",
        "\n",
        "\"\"\"\n",
        "  AutoNLP datasets.\n",
        "\"\"\"\n",
        "\n",
        "import os\n",
        "import numpy as np\n",
        "\n",
        "class AutoNLPDataset(object):\n",
        "    def __init__(self, dataset_dir):\n",
        "        \"\"\"\n",
        "            train_dataset, test_dataset: list of strings\n",
        "            train_label: np.array\n",
        "        \"\"\"\n",
        "        self.dataset_name_ = dataset_dir\n",
        "        self.dataset_dir_ = dataset_dir\n",
        "        self.metadata_ = self.read_metadata(os.path.join(dataset_dir, \"meta.json\"))\n",
        "\n",
        "    def read_dataset(self):\n",
        "        self.train_dataset = self._read_dataset(os.path.join(self.dataset_dir_, \"train.data\"))\n",
        "        self.train_label = self.read_label(os.path.join(self.dataset_dir_, \"train.solution\"))\n",
        "        self.test_dataset = self._read_dataset(os.path.join(self.dataset_dir_, \"test.data\"))\n",
        "\n",
        "    def get_train(self):\n",
        "        return self.train_dataset, self.train_label\n",
        "\n",
        "    def get_test(self):\n",
        "        return self.test_dataset\n",
        "\n",
        "    def get_metadata(self):\n",
        "        return self.metadata_\n",
        "\n",
        "    def read_metadata(self, metadata_path):\n",
        "        import json\n",
        "        return json.load(open(metadata_path))\n",
        "\n",
        "    def _read_dataset(self, dataset_path):\n",
        "        with open(dataset_path) as fin:\n",
        "            return fin.readlines()\n",
        "\n",
        "    def read_label(self, label_path):\n",
        "        return np.loadtxt(label_path)\n",
        "\n",
        "    def get_class_num(self):\n",
        "        \"\"\" return the number of class \"\"\"\n",
        "        return self.metadata_[\"class_num\"]\n",
        "\n",
        "    def get_train_num(self):\n",
        "        \"\"\" return the number of train instance \"\"\"\n",
        "        return self.metadata_[\"train_num\"]\n",
        "\n",
        "    def get_test_num(self):\n",
        "        \"\"\" return the number of test instance \"\"\"\n",
        "        return self.metadata_[\"test_num\"]\n",
        "\n",
        "    def get_language(self):\n",
        "        \"\"\" ZH or EN \"\"\"\n",
        "        return self.metadata_[\"language\"]"
      ],
      "execution_count": 0,
      "outputs": []
    },
    {
      "cell_type": "code",
      "metadata": {
        "id": "uAXTeWQ4BVPk",
        "colab_type": "code",
        "colab": {}
      },
      "source": [
        "\n",
        "import re\n",
        "import numpy as np\n",
        "import torch as th\n",
        "import torch.autograd as ag\n",
        "import torch.nn.functional as F\n",
        "import torch.nn as nn\n",
        "import torch.optim as optim\n",
        "import jieba\n",
        "\n",
        "from nltk.tokenize import word_tokenize\n",
        "\n",
        "import matplotlib.pyplot as plt\n",
        "\n",
        "from sklearn.model_selection import train_test_split\n",
        "import torch.autograd as autograd"
      ],
      "execution_count": 0,
      "outputs": []
    },
    {
      "cell_type": "markdown",
      "metadata": {
        "id": "KkF-CrvWyS3Q",
        "colab_type": "text"
      },
      "source": [
        "### Fun Utils"
      ]
    },
    {
      "cell_type": "code",
      "metadata": {
        "id": "tfhWuSnLyS3X",
        "colab_type": "code",
        "colab": {}
      },
      "source": [
        "def clean_en_text(dat):\n",
        "\n",
        "    REPLACE_BY_SPACE_RE = re.compile('[\"/(){}\\[\\]\\|@,;]')\n",
        "    BAD_SYMBOLS_RE = re.compile('[^0-9a-zA-Z #+_]')\n",
        "\n",
        "    ret = []\n",
        "    for line in dat:\n",
        "        # text = text.lower() # lowercase text\n",
        "        line = REPLACE_BY_SPACE_RE.sub(' ', line)\n",
        "        line = BAD_SYMBOLS_RE.sub('', line)\n",
        "        line = line.strip()\n",
        "        ret.append(line)\n",
        "    return ret\n",
        "\n",
        "def clean_zh_text(dat):\n",
        "    REPLACE_BY_SPACE_RE = re.compile('[“”【】/（）：！～「」、|，；。\"/(){}\\[\\]\\|@,\\.;]')\n",
        "\n",
        "    ret = []\n",
        "    for line in dat:\n",
        "        line = REPLACE_BY_SPACE_RE.sub(' ', line)\n",
        "        line = line.strip()\n",
        "        ret.append(line)\n",
        "    return ret\n",
        "\n",
        "\n",
        "def _tokenize_chinese_words(text):\n",
        "    return ' '.join(jieba.cut(text, cut_all=False))"
      ],
      "execution_count": 0,
      "outputs": []
    },
    {
      "cell_type": "markdown",
      "metadata": {
        "id": "fP9mVoG9yS3h",
        "colab_type": "text"
      },
      "source": [
        "## Get Data"
      ]
    },
    {
      "cell_type": "code",
      "metadata": {
        "id": "_xh22Wi0yS3k",
        "colab_type": "code",
        "colab": {}
      },
      "source": [
        "dataset_path = '/content/drive/My Drive/autonlp_starting_kit-master/offline_data/O1/O1.data'\n",
        "autoDaset = AutoNLPDataset(dataset_path)\n",
        "autoDaset.read_dataset()"
      ],
      "execution_count": 0,
      "outputs": []
    },
    {
      "cell_type": "code",
      "metadata": {
        "id": "5mgCdOF-yS3z",
        "colab_type": "code",
        "colab": {}
      },
      "source": [
        "x_data, y_data = autoDaset.get_train()"
      ],
      "execution_count": 0,
      "outputs": []
    },
    {
      "cell_type": "code",
      "metadata": {
        "id": "_m9v5Yb7yS4B",
        "colab_type": "code",
        "colab": {
          "base_uri": "https://localhost:8080/",
          "height": 142
        },
        "outputId": "d060193a-69b6-45f4-8206-1265b7ae29b9"
      },
      "source": [
        "# take a look at the what the data look like\n",
        "print(x_data[:5])\n",
        "print(y_data[:5])"
      ],
      "execution_count": 58,
      "outputs": [
        {
          "output_type": "stream",
          "text": [
            "['a stirring , funny and finally transporting re-imagining of beauty and the beast and 1930s horror films \\n', 'apparently reassembled from the cutting-room floor of any given daytime soap . \\n', \"they presume their audience wo n't sit still for a sociology lesson , however entertainingly presented , so they trot out the conventional science-fiction elements of bug-eyed monsters and futuristic women in skimpy clothes . \\n\", 'this is a visually stunning rumination on love , memory , history and the war between art and commerce . \\n', \"jonathan parker 's bartleby should have been the be-all-end-all of the modern-office anomie films . \\n\"]\n",
            "[[0. 1.]\n",
            " [1. 0.]\n",
            " [1. 0.]\n",
            " [0. 1.]\n",
            " [0. 1.]]\n"
          ],
          "name": "stdout"
        }
      ]
    },
    {
      "cell_type": "code",
      "metadata": {
        "id": "H97Lcpr7yS4V",
        "colab_type": "code",
        "colab": {
          "base_uri": "https://localhost:8080/",
          "height": 34
        },
        "outputId": "ac93712d-96df-4af9-f8e9-ae158e05a6c3"
      },
      "source": [
        "num_class = autoDaset.get_metadata()['class_num']\n",
        "print('number of classes : ', num_class)"
      ],
      "execution_count": 59,
      "outputs": [
        {
          "output_type": "stream",
          "text": [
            "number of classes :  2\n"
          ],
          "name": "stdout"
        }
      ]
    },
    {
      "cell_type": "code",
      "metadata": {
        "id": "vxsGGqS7Txb3",
        "colab_type": "code",
        "colab": {}
      },
      "source": [
        ""
      ],
      "execution_count": 0,
      "outputs": []
    },
    {
      "cell_type": "markdown",
      "metadata": {
        "id": "syly4nwMyS4g",
        "colab_type": "text"
      },
      "source": [
        "## Data pre-processing\n",
        "\n",
        "- The data has many punctuations, we can replace it by space.\n",
        "\n",
        "- There is not valid set, so we will split the whole dataset into transet ans valid set to better generate the training and hyper-parameters.\n",
        "\n",
        "- Each observation is a sentence which is hard to translated into presentation, we will split it to tokens.\n",
        "\n",
        "- We will convert data to Pytorch tensors so they can be used in a neural network. To do that, you must first create a dictionnary that will map words to integers. Add to the dictionnary only words that are in the training set"
      ]
    },
    {
      "cell_type": "markdown",
      "metadata": {
        "id": "DQD-auXLyS4j",
        "colab_type": "text"
      },
      "source": [
        "clean sentences"
      ]
    },
    {
      "cell_type": "code",
      "metadata": {
        "id": "cOC2Fk4IyS4l",
        "colab_type": "code",
        "colab": {}
      },
      "source": [
        "\n",
        "if autoDaset.get_metadata()['language'] == 'ZH':\n",
        "    x_data = clean_zh_text(x_data)\n",
        "    x_data = list(map(_tokenize_chinese_words, x_data))\n",
        "else:\n",
        "    x_data = clean_en_text(x_data)"
      ],
      "execution_count": 0,
      "outputs": []
    },
    {
      "cell_type": "code",
      "metadata": {
        "id": "nx6m8AoRyS4t",
        "colab_type": "code",
        "colab": {
          "base_uri": "https://localhost:8080/",
          "height": 34
        },
        "outputId": "4539a992-75a2-47e5-cb03-bd38790b2e0a"
      },
      "source": [
        "print('number of transet : ', len(x_data))"
      ],
      "execution_count": 61,
      "outputs": [
        {
          "output_type": "stream",
          "text": [
            "number of transet :  7792\n"
          ],
          "name": "stdout"
        }
      ]
    },
    {
      "cell_type": "markdown",
      "metadata": {
        "id": "mExGN4CcyS4z",
        "colab_type": "text"
      },
      "source": [
        "tokenize dataset"
      ]
    },
    {
      "cell_type": "code",
      "metadata": {
        "id": "o2gM4d4WyS41",
        "colab_type": "code",
        "colab": {
          "base_uri": "https://localhost:8080/",
          "height": 297
        },
        "outputId": "a41b34b6-38ca-41e5-e5d7-fe6130e844ae"
      },
      "source": [
        "x_data = list(map(word_tokenize, x_data))\n",
        "x_data[0]"
      ],
      "execution_count": 62,
      "outputs": [
        {
          "output_type": "execute_result",
          "data": {
            "text/plain": [
              "['a',\n",
              " 'stirring',\n",
              " 'funny',\n",
              " 'and',\n",
              " 'finally',\n",
              " 'transporting',\n",
              " 'reimagining',\n",
              " 'of',\n",
              " 'beauty',\n",
              " 'and',\n",
              " 'the',\n",
              " 'beast',\n",
              " 'and',\n",
              " '1930s',\n",
              " 'horror',\n",
              " 'films']"
            ]
          },
          "metadata": {
            "tags": []
          },
          "execution_count": 62
        }
      ]
    },
    {
      "cell_type": "code",
      "metadata": {
        "id": "ZktcU0vMWo07",
        "colab_type": "code",
        "colab": {
          "base_uri": "https://localhost:8080/",
          "height": 281
        },
        "outputId": "156af692-60b6-438a-ce52-e433350aeb1b"
      },
      "source": [
        "long_n = np.mean(np.array(list(map(len, x_data)))>15)\n",
        "ticklabels = ['long sentences','short sentences']\n",
        "plt.bar(range(2), [long_n,1-long_n],color='rgb',tick_label=class_name)\n",
        "plt.title('long sentence ratio')\n",
        "plt.show()\n"
      ],
      "execution_count": 68,
      "outputs": [
        {
          "output_type": "display_data",
          "data": {
            "image/png": "[encoded data removed]",
            "text/plain": [
              "<Figure size 432x288 with 1 Axes>"
            ]
          },
          "metadata": {
            "tags": []
          }
        }
      ]
    },
    {
      "cell_type": "markdown",
      "metadata": {
        "id": "kwaJmHFIyS49",
        "colab_type": "text"
      },
      "source": [
        "Split into train set and valid set"
      ]
    },
    {
      "cell_type": "code",
      "metadata": {
        "id": "U0rnbbWNyS4_",
        "colab_type": "code",
        "colab": {}
      },
      "source": [
        "# split data into transet and valset\n",
        "X_train, X_val, Y_train, Y_val = train_test_split(x_data, y_data, test_size=0.2, random_state=42, shuffle=True)"
      ],
      "execution_count": 0,
      "outputs": []
    },
    {
      "cell_type": "code",
      "metadata": {
        "id": "--T92gZkyS5F",
        "colab_type": "code",
        "colab": {
          "base_uri": "https://localhost:8080/",
          "height": 52
        },
        "outputId": "6aebe91e-59bb-4489-aa0a-dd401318229e"
      },
      "source": [
        "print('N X_train : ', len(X_train))\n",
        "print('N X_val : ', len(X_val))"
      ],
      "execution_count": 22,
      "outputs": [
        {
          "output_type": "stream",
          "text": [
            "N X_train :  6233\n",
            "N X_val :  1559\n"
          ],
          "name": "stdout"
        }
      ]
    },
    {
      "cell_type": "code",
      "metadata": {
        "id": "Hni2ij2kyS5N",
        "colab_type": "code",
        "colab": {}
      },
      "source": [
        "# onhot encode to category\n",
        "def ohe2cat(label):\n",
        "    return np.argmax(label, axis=1)\n",
        "Y_train, Y_val = ohe2cat(Y_train), ohe2cat(Y_val)"
      ],
      "execution_count": 0,
      "outputs": []
    },
    {
      "cell_type": "code",
      "metadata": {
        "id": "dsew8m7JyS5T",
        "colab_type": "code",
        "colab": {
          "base_uri": "https://localhost:8080/",
          "height": 281
        },
        "outputId": "f6898dbe-689a-4b4e-fe6a-a962d368eb89"
      },
      "source": [
        "## compute number of occurence of each class\n",
        "num_class = autoDaset.get_class_num()\n",
        "\n",
        "class_name = [i for i in range(num_class)]\n",
        "class_n = [np.sum(Y_train==class_name[i])  for i in range(num_class)]\n",
        "\n",
        "plt.bar(range(num_class), class_n,color='rgb',tick_label=class_name)\n",
        "plt.title('Number of observations of each class')\n",
        "plt.show()\n",
        "\n",
        "## it is balanced, good"
      ],
      "execution_count": 25,
      "outputs": [
        {
          "output_type": "display_data",
          "data": {
            "image/png": "[encoded data removed]",
            "text/plain": [
              "<Figure size 432x288 with 1 Axes>"
            ]
          },
          "metadata": {
            "tags": []
          }
        }
      ]
    },
    {
      "cell_type": "code",
      "metadata": {
        "id": "bwIb89ozKIP1",
        "colab_type": "code",
        "colab": {
          "base_uri": "https://localhost:8080/",
          "height": 34
        },
        "outputId": "10e239d5-ec1e-4bd8-b18f-f0eab43b308c"
      },
      "source": [
        "sentences_length = np.array(list(map(len,X_train)))\n",
        "np.mean(sentences_length > 15)"
      ],
      "execution_count": 32,
      "outputs": [
        {
          "output_type": "execute_result",
          "data": {
            "text/plain": [
              "0.5456441520936949"
            ]
          },
          "metadata": {
            "tags": []
          },
          "execution_count": 32
        }
      ]
    },
    {
      "cell_type": "markdown",
      "metadata": {
        "id": "gv00dciuyS5c",
        "colab_type": "text"
      },
      "source": [
        "Create a dictionnary that will map words to integers"
      ]
    },
    {
      "cell_type": "code",
      "metadata": {
        "id": "M6JhP6WjyS5e",
        "colab_type": "code",
        "colab": {}
      },
      "source": [
        "dictionary = {}\n",
        "num_voc = 0\n",
        "for sentence in X_train:\n",
        "    for word in sentence:\n",
        "        if word not in dictionary.keys():\n",
        "            dictionary[word] = num_voc\n",
        "            num_voc += 1\n",
        "dictionary['UNK'] = num_voc\n",
        "num_voc+=1"
      ],
      "execution_count": 0,
      "outputs": []
    },
    {
      "cell_type": "code",
      "metadata": {
        "id": "qm3psBnyyS5j",
        "colab_type": "code",
        "colab": {}
      },
      "source": [
        "def to_tensor(data):\n",
        "    d = []\n",
        "    for word in data:\n",
        "        if word in dictionary.keys():\n",
        "            d.append(dictionary[word])\n",
        "    return th.tensor(d)\n",
        "\n",
        "def to_index(data):\n",
        "    d = []\n",
        "    for word in data:\n",
        "        if word in dictionary.keys():\n",
        "            d.append(dictionary[word])\n",
        "        else:\n",
        "            d.append(dictionary['UNK'])\n",
        "    return d"
      ],
      "execution_count": 0,
      "outputs": []
    },
    {
      "cell_type": "markdown",
      "metadata": {
        "id": "IJrARhd4yS5p",
        "colab_type": "text"
      },
      "source": [
        "## The model\n",
        "\n",
        "- The dataset can not be encoded by one-hot, but embedding is a good choice. So it takes as input a tensor that is a sequence of integers indexing word embeddings.\n",
        "\n",
        "- a"
      ]
    },
    {
      "cell_type": "code",
      "metadata": {
        "id": "NF5WWTdmyS5s",
        "colab_type": "code",
        "colab": {}
      },
      "source": [
        "class My_classifier(nn.Module):\n",
        "    def __init__(self, vocab_size, embedding_dim, class_num):\n",
        "        super(My_classifier, self).__init__()\n",
        "        self.embeddings = nn.Embedding(vocab_size, embedding_dim)\n",
        "        self.linear1 = nn.Linear(embedding_dim, 32)\n",
        "        if class_num == 2:\n",
        "          self.linear2 = nn.Linear(32, 1)\n",
        "        else:\n",
        "          self.linear2 = nn.Linear(32, class_num)\n",
        "        \n",
        "        nn.init.kaiming_uniform_(self.linear1.weight.data)\n",
        "        nn.init.kaiming_uniform_(self.linear2.weight.data)\n",
        "\n",
        "    def forward(self, inputs):\n",
        "        embeds = self.embeddings(inputs).sum(0)\n",
        "        out = th.relu(self.linear1(embeds.view(1,-1)))\n",
        "        out = self.linear2(out)\n",
        "        #log_probs = th.log_softmax(out, dim=1)\n",
        "        return out\n",
        "        "
      ],
      "execution_count": 0,
      "outputs": []
    },
    {
      "cell_type": "code",
      "metadata": {
        "id": "Azgqb3FoyS5y",
        "colab_type": "code",
        "colab": {}
      },
      "source": [
        ""
      ],
      "execution_count": 0,
      "outputs": []
    },
    {
      "cell_type": "code",
      "metadata": {
        "id": "rZMeBQNzyS54",
        "colab_type": "code",
        "colab": {}
      },
      "source": [
        "from sklearn.utils import shuffle\n",
        "import matplotlib.pyplot as plt\n",
        "\n",
        "def evaluate(model, datas, labels):\n",
        "    '''\n",
        "    function for evaluation\n",
        "    model : pytorch model\n",
        "    datas : dataset \n",
        "    labels : labels\n",
        "\n",
        "    return : accuracy\n",
        "    '''\n",
        "    # nb of good prediction\n",
        "    good = 0\n",
        "    # nb of false prediction\n",
        "    total = 0\n",
        "\n",
        "    # for each paire of x,y \n",
        "    for x,y in zip(datas,labels):\n",
        "        # make x to Tensor\n",
        "        x = to_tensor(x)\n",
        "        # if number of words in a sentence is smaller than size of slide window\n",
        "        total += 1\n",
        "        if x.size()[0] <= 0:\n",
        "            continue\n",
        "        # we break\n",
        "        # get result of model\n",
        "        out = model(x)\n",
        "    \n",
        "        if num_class == 2:\n",
        "            if (out[0].item() >= 0) == (y == 1.):\n",
        "                good += 1\n",
        "        else:\n",
        "        \n",
        "            if np.argmax(out.detach().numpy()) == y:\n",
        "                good += 1\n",
        "    return good/total\n",
        "\n",
        "def train(model, optimizer, criterion, data, labels):\n",
        "    total_loss = 0\n",
        "    data, labels = shuffle(data, labels)\n",
        "    for x, y in zip(data, labels):\n",
        "        # reset the gradient\n",
        "        optimizer.zero_grad()\n",
        "#         if to_tensor(x).size()[0] <= WINDOW-1:\n",
        "#             continue\n",
        "        # output of the model\n",
        "        output = model(to_tensor(x))\n",
        "        # compute the loss\n",
        "        loss = criterion(output, th.tensor([y]))\n",
        "        total_loss += loss.item()\n",
        "        loss.backward()  # compute gradient\n",
        "        #torch.nn.utils.clip_grad_value_(model.parameters(), 5.)  # clip gradient if its norm exceed 5\n",
        "        optimizer.step()  # update parameters\n",
        "    \n",
        "    return model,total_loss/len(data)\n",
        "\n",
        "def training_loop(model, optimizer, loss_function, n_epochs, datas, labels):\n",
        "    '''\n",
        "    training function\n",
        "    \n",
        "    model : the torch model\n",
        "    optimizer : optimizer \n",
        "    loss_function : loss function\n",
        "    n_epochs : number of epches\n",
        "    datas : dataset (x)\n",
        "    labels : labels (y)\n",
        "\n",
        "    return : the trained model, list of mean loss of each epochs, list of accuracy on dev set of each epochs, \n",
        "    '''\n",
        "    mean_losss = []\n",
        "    dev_accus = []\n",
        "    for e in range(n_epochs):\n",
        "        print(\"Epoch : \",e)\n",
        "        # train the model\n",
        "        model,mean_loss = train(model, optimizer, loss_function, datas, labels)\n",
        "        \n",
        "        #dev_accus.append(accuracy)  \n",
        "        mean_losss.append(mean_loss)\n",
        "\n",
        "        print('mean loss : ', mean_loss)\n",
        "        print('accuracy on dev set : ', evaluate(model, X_val, Y_val))\n",
        "    return model, mean_losss\n",
        "\n",
        "def training_loop_batch(model, optimizer, loss_function, n_epochs, datas, labels):\n",
        "    '''\n",
        "    training function\n",
        "    \n",
        "    model : the torch model\n",
        "    optimizer : optimizer \n",
        "    loss_function : loss function\n",
        "    n_epochs : number of epches\n",
        "    datas : dataset (x)\n",
        "    labels : labels (y)\n",
        "\n",
        "    return : the trained model, list of mean loss of each epochs, list of accuracy on dev set of each epochs, \n",
        "    '''\n",
        "    mean_losss = []\n",
        "    dev_accus = []\n",
        "    for e in range(n_epochs):\n",
        "        print(\"Epoch : \",e)\n",
        "        # train the model\n",
        "        model,mean_loss = train(model, optimizer, loss_function, datas, labels)\n",
        "        \n",
        "        #dev_accus.append(accuracy)  \n",
        "        mean_losss.append(mean_loss)\n",
        "\n",
        "        print('mean loss : ', mean_loss)\n",
        "        print('accuracy on dev set : ', evaluate(model, X_val, Y_val))\n",
        "    return model, mean_losss"
      ],
      "execution_count": 0,
      "outputs": []
    },
    {
      "cell_type": "markdown",
      "metadata": {
        "id": "cuzU_hCwyS6D",
        "colab_type": "text"
      },
      "source": [
        "## Loss function"
      ]
    },
    {
      "cell_type": "code",
      "metadata": {
        "id": "uAG5WWoYyS6G",
        "colab_type": "code",
        "colab": {}
      },
      "source": [
        ""
      ],
      "execution_count": 0,
      "outputs": []
    },
    {
      "cell_type": "code",
      "metadata": {
        "scrolled": true,
        "id": "IIYjT-0byS6R",
        "colab_type": "code",
        "colab": {}
      },
      "source": [
        "EPOCHS = 20\n",
        "BATCH_SIZE = 10\n",
        "WEIGHT_DECAY = 0.02\n",
        "DROP_OUT = None\n",
        "EMBED_DIM = 40\n",
        "\n",
        "model = My_classifier(num_voc, embedding_dim=EMBED_DIM, class_num=num_class)\n",
        "#model = CBOW_classifier(num_voc, embedding_dim=EMBED_DIM,)\n",
        "criterion = nn.BCEWithLogitsLoss()\n",
        "optimizer = th.optim.SGD(model.parameters(),lr=0.01)\n",
        "# training loop\n",
        "model, mean_losss = training_loop(model, optimizer, criterion, EPOCHS, X_train, Y_train)"
      ],
      "execution_count": 0,
      "outputs": []
    },
    {
      "cell_type": "markdown",
      "metadata": {
        "id": "w2Z5p8bMyS64",
        "colab_type": "text"
      },
      "source": [
        "## class LSTM_classifier(nn.Module):\n",
        "    def __init__(self, vocab_size, embedding_dim, hidden_dim):\n",
        "        super(LSTM_classifier, self).__init__()\n",
        "        self.embedding = nn.Embedding(vocab_size, embedding_dim)\n",
        "        self.lstm = nn.LSTM(embedding_dim, hidden_dim, bidirectional=True)\n",
        "        self.linear = nn.Linear(2*hidden_dim, 50)\n",
        "        self.linear2 = nn.Linear(50,1)\n",
        "        self.dropout = nn.Dropout(0.2)\n",
        "    \n",
        "    def forward(self, inputs):\n",
        "        out = self.embedding(inputs)\n",
        "        out, (h0,h1) = self.lstm(out.view(len(inputs), 1, -1))\n",
        "        out = F.relu(self.linear(self.dropout(h0.view(-1))))\n",
        "        out = self.linear2(out)\n",
        "        return out\n",
        "    \n",
        "\n",
        "model = LSTM_classifier(num_voc, 100, 100)\n",
        "model.train()\n",
        "loss = nn.BCEWithLogitsLoss()\n",
        "optimizer = optim.SGD(model.parameters(),lr=0.01,momentum=0.5)\n",
        "model, mean_losss = training_loop(model, optimizer, criterion, EPOCHS, X_train, Y_train)"
      ]
    },
    {
      "cell_type": "code",
      "metadata": {
        "id": "oi62ZsXXyS66",
        "colab_type": "code",
        "colab": {},
        "outputId": "1cca623d-0bf1-4ca5-fed6-a40d120327ad"
      },
      "source": [
        "model(to_tensor(X_train[0]))"
      ],
      "execution_count": 0,
      "outputs": [
        {
          "output_type": "execute_result",
          "data": {
            "text/plain": [
              "tensor([0.0003], grad_fn=<AddBackward0>)"
            ]
          },
          "metadata": {
            "tags": []
          },
          "execution_count": 173
        }
      ]
    },
    {
      "cell_type": "code",
      "metadata": {
        "id": "Emy_4BDxyS7D",
        "colab_type": "code",
        "colab": {}
      },
      "source": [
        "\n",
        "model = LSTM_classifier(num_voc,100,100)\n",
        "#model = CBOW_classifier(num_voc, embedding_dim=EMBED_DIM,)\n",
        "#criterion = nn.CrossEntropyLoss()\n",
        "criterion = nn.BCEWithLogitsLoss()\n",
        "print(model)\n",
        "optimizer = th.optim.SGD(model.parameters(),lr=0.01)\n",
        "# training loop\n",
        "model, mean_losss = training_loop(model, optimizer, criterion, EPOCHS, X_train, Y_train)"
      ],
      "execution_count": 0,
      "outputs": []
    },
    {
      "cell_type": "code",
      "metadata": {
        "colab_type": "code",
        "id": "T6M3HpXUugL2",
        "colab": {}
      },
      "source": [
        "import torch\n",
        "import torch.nn as nn\n",
        "from torch.nn.utils.rnn import pack_padded_sequence, pad_packed_sequence\n",
        "\n",
        "\n",
        "class RNN(nn.Module):\n",
        "\n",
        "    def __init__(self, vocab_size, embed_size, num_output, rnn_model='LSTM', use_last=True, embedding_tensor=None,\n",
        "                 padding_index=0, hidden_size=64, num_layers=1, batch_first=True):\n",
        "        \"\"\"\n",
        "        Args:\n",
        "            vocab_size: vocab size\n",
        "            embed_size: embedding size\n",
        "            num_output: number of output (classes)\n",
        "            rnn_model:  LSTM or GRU\n",
        "            use_last:  bool\n",
        "            embedding_tensor:\n",
        "            padding_index:\n",
        "            hidden_size: hidden size of rnn module\n",
        "            num_layers:  number of layers in rnn module\n",
        "            batch_first: batch first option\n",
        "        \"\"\"\n",
        "\n",
        "        super(RNN, self).__init__()\n",
        "        self.use_last = use_last\n",
        "        # embedding\n",
        "        self.encoder = None\n",
        "        if torch.is_tensor(embedding_tensor):\n",
        "            self.encoder = nn.Embedding(vocab_size, embed_size, padding_idx=padding_index, _weight=embedding_tensor)\n",
        "            self.encoder.weight.requires_grad = False\n",
        "        else:\n",
        "            self.encoder = nn.Embedding(vocab_size, embed_size, padding_idx=padding_index)\n",
        "\n",
        "        self.drop_en = nn.Dropout(p=0.6)\n",
        "\n",
        "        # rnn module\n",
        "        if rnn_model == 'LSTM':\n",
        "            self.rnn = nn.LSTM( input_size=embed_size, hidden_size=hidden_size, num_layers=num_layers, dropout=0.5,\n",
        "                                batch_first=True, bidirectional=True)\n",
        "        elif rnn_model == 'GRU':\n",
        "            self.rnn = nn.GRU( input_size=embed_size, hidden_size=hidden_size, num_layers=num_layers, dropout=0.5,\n",
        "                                batch_first=True, bidirectional=True)\n",
        "        else:\n",
        "            raise LookupError(' only support LSTM and GRU')\n",
        "\n",
        "\n",
        "        self.bn2 = nn.BatchNorm1d(hidden_size*2)\n",
        "        self.fc = nn.Linear(hidden_size*2, 1)\n",
        "\n",
        "    def forward(self, x, seq_lengths):\n",
        "        '''\n",
        "        Args:\n",
        "            x: (batch, time_step, input_size)\n",
        "        Returns:\n",
        "            num_output size\n",
        "        '''\n",
        "\n",
        "        x_embed = self.encoder(x)\n",
        "        x_embed = self.drop_en(x_embed)\n",
        "        packed_input = pack_padded_sequence(x_embed, seq_lengths.cpu().numpy(),batch_first=True)\n",
        "\n",
        "        # r_out shape (batch, time_step, output_size)\n",
        "        # None is for initial hidden state\n",
        "        packed_output, ht = self.rnn(packed_input, None)\n",
        "        out_rnn, _ = pad_packed_sequence(packed_output, batch_first=True)\n",
        "\n",
        "        row_indices = torch.arange(0, x.size(0)).long()\n",
        "        col_indices = seq_lengths - 1\n",
        "        if next(self.parameters()).is_cuda:\n",
        "            row_indices = row_indices.cuda()\n",
        "            col_indices = col_indices.cuda()\n",
        "\n",
        "        if self.use_last:\n",
        "            last_tensor=out_rnn[row_indices, col_indices, :]\n",
        "        else:\n",
        "            # use mean\n",
        "            last_tensor = out_rnn[row_indices, :, :]\n",
        "            last_tensor = torch.mean(last_tensor, dim=1)\n",
        "\n",
        "        fc_input = self.bn2(last_tensor)\n",
        "        out = self.fc(fc_input)\n",
        "        return out"
      ],
      "execution_count": 0,
      "outputs": []
    },
    {
      "cell_type": "code",
      "metadata": {
        "id": "t0H4z95VyS7X",
        "colab_type": "code",
        "colab": {}
      },
      "source": [
        "def get_batch(batch_x, batch_y):\n",
        "    batch = []\n",
        "    for sentence in batch_x:\n",
        "        batch.append(to_index(sentence))\n",
        "    \n",
        "    sen_lengths = th.tensor(list(map(len, batch)))\n",
        "    \n",
        "    batch_tensor = th.zeros((len(batch), sen_lengths.max())).long()\n",
        "    for idx, (sen, sen_len) in enumerate(zip(batch, sen_lengths)):\n",
        "        batch_tensor[idx, :sen_len] = th.LongTensor(sen)\n",
        "        \n",
        "    sen_lengths, sorted_idx = sen_lengths.sort(0, descending=True)\n",
        "    batch_tensor = batch_tensor[sorted_idx]\n",
        "    \n",
        "    batch_labels = th.tensor(batch_y).view(len(batch_y),-1)\n",
        "    batch_labels = batch_labels[sorted_idx]\n",
        "    \n",
        "    return batch_tensor,batch_labels,sen_lengths"
      ],
      "execution_count": 0,
      "outputs": []
    },
    {
      "cell_type": "code",
      "metadata": {
        "id": "2KE8GiY9yS7b",
        "colab_type": "code",
        "colab": {}
      },
      "source": [
        "BATCH_SIZE = 10\n",
        "model = RNN(num_voc,40,2,num_layers=2)\n",
        "#model = CBOW_classifier(num_voc, embedding_dim=EMBED_DIM,)\n",
        "#criterion = nn.CrossEntropyLoss()\n",
        "criterion = nn.BCEWithLogitsLoss()\n",
        "print(model)\n",
        "optimizer = th.optim.Adam(filter(lambda p: p.requires_grad, model.parameters()), lr=0.01, weight_decay=0.01)\n",
        "#optimizer = th.optim.SGD(model.parameters(),lr=0.01)\n",
        "for e in range(50):\n",
        "    print('epoch: ', e)\n",
        "    total_loss = 0\n",
        "    for i in range(0,len(X_train),BATCH_SIZE):\n",
        "        batch_tensor,batch_labels,sen_lengths = get_batch(X_train[i:i+BATCH_SIZE], Y_train[i:i+BATCH_SIZE])\n",
        "        optimizer.zero_grad()\n",
        "    #         if to_tensor(x).size()[0] <= WINDOW-1:\n",
        "    #             continue\n",
        "        # output of the model\n",
        "        output = model(batch_tensor,sen_lengths)\n",
        "        # compute the loss\n",
        "        loss = criterion(output, batch_labels)\n",
        "        #total_loss += loss.item()\n",
        "        loss.backward()  # compute gradient\n",
        "        #torch.nn.utils.clip_grad_value_(model.parameters(), 5.)  # clip gradient if its norm exceed 5\n",
        "        optimizer.step()  # update parameters\n",
        "    print('  loss: ',total_loss/len(X_train))\n",
        "    print('  acc : ', eva(model,X_val, Y_val))"
      ],
      "execution_count": 0,
      "outputs": []
    },
    {
      "cell_type": "code",
      "metadata": {
        "id": "gX0tp-dmyS7m",
        "colab_type": "code",
        "colab": {}
      },
      "source": [
        "def eva(model,x,y):\n",
        "    batch_tensor,batch_labels,sen_lengths = get_batch(x,y)\n",
        "    res = model(batch_tensor,sen_lengths)\n",
        "    return sum(res.argmax(axis=1)==batch_labels).item()/len(x)"
      ],
      "execution_count": 0,
      "outputs": []
    },
    {
      "cell_type": "code",
      "metadata": {
        "id": "c8XXTcXJyS7p",
        "colab_type": "code",
        "colab": {}
      },
      "source": [
        "model = RNN(num_voc,40,2)\n",
        "#model = CBOW_classifier(num_voc, embedding_dim=EMBED_DIM,)\n",
        "criterion = nn.CrossEntropyLoss()\n",
        "print(model)\n",
        "optimizer = th.optim.Adam(filter(lambda p: p.requires_grad, model.parameters()), lr=0.01, weight_decay=0.01)\n",
        "# training loop\n",
        "model, mean_losss = training_loop(model, optimizer, criterion, EPOCHS, X_train, Y_train)"
      ],
      "execution_count": 0,
      "outputs": []
    },
    {
      "cell_type": "code",
      "metadata": {
        "id": "_3TiFnhCyS7w",
        "colab_type": "code",
        "colab": {}
      },
      "source": [
        ""
      ],
      "execution_count": 0,
      "outputs": []
    }
  ]
}